{
 "metadata": {
  "name": "",
  "signature": "sha256:b81d3364cf716ae18fdd5fdff3aebdc9e5a20b603f17de2932911520fd2bb61a"
 },
 "nbformat": 3,
 "nbformat_minor": 0,
 "worksheets": [
  {
   "cells": [
    {
     "cell_type": "heading",
     "level": 3,
     "metadata": {},
     "source": [
      "Kepler Synthetics"
     ]
    },
    {
     "cell_type": "markdown",
     "metadata": {},
     "source": [
      "This notebook restores a synthetic light curve and plots it to make sure the highlighted transit is where it should be."
     ]
    },
    {
     "cell_type": "code",
     "collapsed": false,
     "input": [
      "%pylab inline"
     ],
     "language": "python",
     "metadata": {},
     "outputs": [
      {
       "output_type": "stream",
       "stream": "stdout",
       "text": [
        "Populating the interactive namespace from numpy and matplotlib\n"
       ]
      }
     ],
     "prompt_number": 1
    },
    {
     "cell_type": "code",
     "collapsed": false,
     "input": [
      "plt.rcParams['figure.figsize'] = (16.0, 8.0)"
     ],
     "language": "python",
     "metadata": {},
     "outputs": [],
     "prompt_number": 24
    },
    {
     "cell_type": "code",
     "collapsed": false,
     "input": [
      "from astropy.io import fits"
     ],
     "language": "python",
     "metadata": {},
     "outputs": [],
     "prompt_number": 2
    },
    {
     "cell_type": "code",
     "collapsed": false,
     "input": [
      "hd = fits.open('/raw/kepler/synthetics/synthetic_2347.fits')"
     ],
     "language": "python",
     "metadata": {},
     "outputs": [],
     "prompt_number": 4
    },
    {
     "cell_type": "code",
     "collapsed": false,
     "input": [
      "hd.info()"
     ],
     "language": "python",
     "metadata": {},
     "outputs": [
      {
       "output_type": "stream",
       "stream": "stdout",
       "text": [
        "Filename: /raw/kepler/synthetics/synthetic_2347.fits\n",
        "No.    Name         Type      Cards   Dimensions   Format\n",
        "0    PRIMARY     PrimaryHDU      61   ()              \n",
        "1    LIGHTCURVE  BinTableHDU    161   1470R x 20C   [D, E, J, E, E, E, E, E, E, J, D, E, D, E, D, E, D, E, E, E]   \n"
       ]
      }
     ],
     "prompt_number": 5
    },
    {
     "cell_type": "code",
     "collapsed": false,
     "input": [
      "print(repr(hd[0].header))"
     ],
     "language": "python",
     "metadata": {},
     "outputs": [
      {
       "output_type": "stream",
       "stream": "stdout",
       "text": [
        "SIMPLE  =                    T / conforms to FITS standards                     \n",
        "BITPIX  =                   32 / array data type                                \n",
        "NAXIS   =                    0 / number of array dimensions                     \n",
        "EXTEND  =                    T / file contains extensions                       \n",
        "NEXTEND =                    2 / number of standard extensions                  \n",
        "EXTNAME = 'PRIMARY '           / name of extension                              \n",
        "EXTVER  =                    1 / extension version number (not format version)  \n",
        "ORIGIN  = 'NASA/Ames'          / institution responsible for creating this file \n",
        "DATE    = '2013-05-02'         / file creation date.                            \n",
        "CREATOR = '507565 FluxExporter2PipelineModule' / pipeline job and program used t\n",
        "PROCVER = 'svn+ssh://murzim/repo/soc/tags/release/9.0.3 r51238' / SW version    \n",
        "FILEVER = '5.0     '           / file format version                            \n",
        "TIMVERSN= 'OGIP/93-003'        / OGIP memo number for file format               \n",
        "TELESCOP= 'Kepler  '           / telescope                                      \n",
        "INSTRUME= 'Kepler Photometer'  / detector type                                  \n",
        "OBJECT  = 'KIC 3322943'        / string version of KEPLERID                     \n",
        "KEPLERID=              3322943 / unique Kepler target identifier                \n",
        "CHANNEL =                   16 / CCD channel                                    \n",
        "SKYGROUP=                   72 / roll-independent location of channel           \n",
        "MODULE  =                    6 / CCD module                                     \n",
        "OUTPUT  =                    4 / CCD output                                     \n",
        "QUARTER =                   14 / Observing quarter                              \n",
        "SEASON  =                    0 / mission season during which data was collected \n",
        "DATA_REL=                   21 / version of data release notes for this file    \n",
        "OBSMODE = 'long cadence'       / observing mode                                 \n",
        "RADESYS = 'ICRS    '           / reference frame of celestial coordinates       \n",
        "RA_OBJ  =           285.174551 / [deg] right ascension                          \n",
        "DEC_OBJ =            38.427760 / [deg] declination                              \n",
        "EQUINOX =               2000.0 / equinox of celestial coordinate system         \n",
        "PMRA    =               0.0049 / [arcsec/yr] RA proper motion                   \n",
        "PMDEC   =              -0.0069 / [arcsec/yr] Dec proper motion                  \n",
        "PMTOTAL =               0.0085 / [arcsec/yr] total proper motion                \n",
        "PARALLAX=                      / [arcsec] parallax                              \n",
        "GLON    =            68.878135 / [deg] galactic longitude                       \n",
        "GLAT    =            14.787980 / [deg] galactic latitude                        \n",
        "GMAG    =               16.410 / [mag] SDSS g band magnitude                    \n",
        "RMAG    =               15.106 / [mag] SDSS r band magnitude                    \n",
        "IMAG    =               14.527 / [mag] SDSS i band magnitude                    \n",
        "ZMAG    =               14.222 / [mag] SDSS z band magnitude                    \n",
        "D51MAG  =               16.248 / [mag] D51 magnitude,                           \n",
        "JMAG    =               13.031 / [mag] J band magnitude from 2MASS              \n",
        "HMAG    =               12.371 / [mag] H band magnitude from 2MASS              \n",
        "KMAG    =               12.182 / [mag] K band magnitude from 2MASS              \n",
        "KEPMAG  =               15.092 / [mag] Kepler magnitude (Kp)                    \n",
        "GRCOLOR =                1.304 / [mag] (g-r) color, SDSS bands                  \n",
        "JKCOLOR =                0.849 / [mag] (J-K) color, 2MASS bands                 \n",
        "GKCOLOR =                4.228 / [mag] (g-K) color, SDSS g - 2MASS K            \n",
        "TEFF    =                 4122 / [K] Effective temperature                      \n",
        "LOGG    =                4.732 / [cm/s2] log10 surface gravity                  \n",
        "FEH     =               -0.200 / [log10([Fe/H])]  metallicity                   \n",
        "EBMINUSV=                0.044 / [mag] E(B-V) redenning                         \n",
        "AV      =                0.137 / [mag] A_v extinction                           \n",
        "RADIUS  =                0.533 / [solar radii] stellar radius                   \n",
        "TMINDEX =            260871809 / unique 2MASS catalog ID                        \n",
        "SCPID   =                      / unique SCP processing ID                       \n",
        "CHECKSUM= 'DLlHFIi9DIiGDIi9'   / HDU checksum updated 2013-05-02T18:54:23Z      \n",
        "SYNTHTIC= 'TRUE    '           /A synthetic planet has been added               \n",
        "PLRAD   = '4.881   '           /Synthetic planet radius (R_EARTH)               \n",
        "PLPER   = '354.319 '           /Synthetic planet period (days)                  \n",
        "PLPHASE = '0.0184  '           /Transit phase                                   \n",
        "TRANELS = '318:330 '           /Elements with 1st transit event                 \n"
       ]
      }
     ],
     "prompt_number": 6
    },
    {
     "cell_type": "markdown",
     "metadata": {},
     "source": [
      "From this I can see that the transit elements are 318:330. I'm going to plot the lightcurve and then overplot those points in a different color to see if they match up."
     ]
    },
    {
     "cell_type": "code",
     "collapsed": false,
     "input": [
      "dat = hd[1].data"
     ],
     "language": "python",
     "metadata": {},
     "outputs": [],
     "prompt_number": 7
    },
    {
     "cell_type": "code",
     "collapsed": false,
     "input": [
      "size(dat)"
     ],
     "language": "python",
     "metadata": {},
     "outputs": [
      {
       "metadata": {},
       "output_type": "pyout",
       "prompt_number": 8,
       "text": [
        "1470"
       ]
      }
     ],
     "prompt_number": 8
    },
    {
     "cell_type": "code",
     "collapsed": false,
     "input": [
      "dat.shape"
     ],
     "language": "python",
     "metadata": {},
     "outputs": [
      {
       "metadata": {},
       "output_type": "pyout",
       "prompt_number": 10,
       "text": [
        "(1470,)"
       ]
      }
     ],
     "prompt_number": 10
    },
    {
     "cell_type": "code",
     "collapsed": false,
     "input": [
      "dat.dtype"
     ],
     "language": "python",
     "metadata": {},
     "outputs": [
      {
       "metadata": {},
       "output_type": "pyout",
       "prompt_number": 11,
       "text": [
        "dtype([('TIME', '>f8'), ('TIMECORR', '>f4'), ('CADENCENO', '>i4'), ('SAP_FLUX', '>f4'), ('SAP_FLUX_ERR', '>f4'), ('SAP_BKG', '>f4'), ('SAP_BKG_ERR', '>f4'), ('PDCSAP_FLUX', '>f4'), ('PDCSAP_FLUX_ERR', '>f4'), ('SAP_QUALITY', '>i4'), ('PSF_CENTR1', '>f8'), ('PSF_CENTR1_ERR', '>f4'), ('PSF_CENTR2', '>f8'), ('PSF_CENTR2_ERR', '>f4'), ('MOM_CENTR1', '>f8'), ('MOM_CENTR1_ERR', '>f4'), ('MOM_CENTR2', '>f8'), ('MOM_CENTR2_ERR', '>f4'), ('POS_CORR1', '>f4'), ('POS_CORR2', '>f4')])"
       ]
      }
     ],
     "prompt_number": 11
    },
    {
     "cell_type": "code",
     "collapsed": false,
     "input": [
      "def plotKeplerLC(hd):\n",
      "    dat = hd[1].data\n",
      "    plt.plot(dat['TIME'], dat['PDCSAP_FLUX'], 'ok')\n",
      "    plt.xlabel('Time')\n",
      "    plt.ylabel('Corrected Flux (PDCSAP_FLUX)')\n",
      "    tranels = hd[0].header['TRANELS']\n",
      "    print(tranels)\n",
      "    tsplit = tranels.split(':')\n",
      "    t0, t1 = int(tsplit[0]), int(tsplit[1])\n",
      "    print(tsplit)\n",
      "    plt.plot(dat['TIME'][t0:t1], dat['PDCSAP_FLUX'][t0:t1], 'or')\n",
      "    print(len(dat['TIME']))\n",
      "\n",
      "plotKeplerLC(hd)\n"
     ],
     "language": "python",
     "metadata": {},
     "outputs": [
      {
       "output_type": "stream",
       "stream": "stdout",
       "text": [
        "318:330\n",
        "['318', '330']\n",
        "1470\n"
       ]
      },
      {
       "metadata": {},
       "output_type": "display_data",
       "png": "[encoded data removed]",
       "text": [
        "<matplotlib.figure.Figure at 0x10960c210>"
       ]
      }
     ],
     "prompt_number": 42
    },
    {
     "cell_type": "code",
     "collapsed": false,
     "input": [
      "tranels = hd[0].header['TRANELS']"
     ],
     "language": "python",
     "metadata": {},
     "outputs": [],
     "prompt_number": 34
    },
    {
     "cell_type": "code",
     "collapsed": false,
     "input": [
      "print(tranels)\n",
      "tsplit = tranels.split(':')\n",
      "t0, t1 = tsplit[0], tsplit[1]\n",
      "print(tsplit)\n"
     ],
     "language": "python",
     "metadata": {},
     "outputs": [
      {
       "output_type": "stream",
       "stream": "stdout",
       "text": [
        "318:330\n",
        "['318', '330']\n"
       ]
      }
     ],
     "prompt_number": 35
    },
    {
     "cell_type": "code",
     "collapsed": false,
     "input": [
      "print(len(dat['TIME']))"
     ],
     "language": "python",
     "metadata": {},
     "outputs": [
      {
       "output_type": "stream",
       "stream": "stdout",
       "text": [
        "1470\n"
       ]
      }
     ],
     "prompt_number": 36
    },
    {
     "cell_type": "code",
     "collapsed": false,
     "input": [
      "print(len(dat['TIME'][int(t0):int(t1)]))"
     ],
     "language": "python",
     "metadata": {},
     "outputs": [
      {
       "output_type": "stream",
       "stream": "stdout",
       "text": [
        "12\n"
       ]
      }
     ],
     "prompt_number": 40
    },
    {
     "cell_type": "code",
     "collapsed": false,
     "input": [],
     "language": "python",
     "metadata": {},
     "outputs": []
    }
   ],
   "metadata": {}
  }
 ]
}